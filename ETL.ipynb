{
 "cells": [
  {
   "cell_type": "markdown",
   "metadata": {},
   "source": [
    "#### Importe de Librerías"
   ]
  },
  {
   "cell_type": "code",
   "execution_count": 9,
   "metadata": {},
   "outputs": [],
   "source": [
    "import pandas as pd"
   ]
  },
  {
   "cell_type": "markdown",
   "metadata": {},
   "source": [
    "#### Leemos el dataset a utilizar convirtiendolo a DataFrame"
   ]
  },
  {
   "cell_type": "code",
   "execution_count": null,
   "metadata": {},
   "outputs": [],
   "source": [
    "tabla=\"F:\\\\Desktop\\\\Proyecto_SGBD\\\\Datasets\\\\Dataset_Autos.csv\"\n",
    "df=pd.read_csv(tabla)\n",
    "print(df)"
   ]
  },
  {
   "cell_type": "markdown",
   "metadata": {},
   "source": [
    "#### Eliminamos las columnas que no se utilizarán."
   ]
  },
  {
   "cell_type": "code",
   "execution_count": 11,
   "metadata": {},
   "outputs": [],
   "source": [
    "df.drop(columns=['Location','Owner','Seller Type',\"Max Power\",\"Max Torque\",\"Drivetrain\",\n",
    "                 \"Length\",\"Width\",\"Height\",\"Seating Capacity\",\"Fuel Tank Capacity\"], inplace=True)\n",
    "\n",
    "#df.to_csv(\"Aver.csv\",index=False)"
   ]
  },
  {
   "cell_type": "markdown",
   "metadata": {},
   "source": [
    "#### Cambiamos el nombre de las columnas a su traducción en español."
   ]
  },
  {
   "cell_type": "code",
   "execution_count": 12,
   "metadata": {},
   "outputs": [],
   "source": [
    "nuevos_nombres={\"Make\":\"Marca\",\"Model\":\"Modelo\",\"Price\": \"Precio\",\"Year\": \"Anio\",\n",
    "                \"Kilometer\":\"Kilometraje\",\"Fuel Type\":\"Comustible\",\"Transmission\":\"Transmision\",\"Color\":\"Color\",\"Engine\":\"Motor\"}\n",
    "\n",
    "df.columns=nuevos_nombres.values()"
   ]
  },
  {
   "cell_type": "markdown",
   "metadata": {},
   "source": []
  },
  {
   "cell_type": "code",
   "execution_count": 13,
   "metadata": {},
   "outputs": [],
   "source": [
    "df['Precio'] = None\n",
    "\n",
    "def asignar_precio(año):\n",
    "    if año >= 2019:\n",
    "        return 200000\n",
    "    elif 2012 <= año <= 2018:\n",
    "        return 140000\n",
    "    else:\n",
    "        return 80000\n",
    "\n",
    "df['Precio'] = df['Anio'].apply(asignar_precio)"
   ]
  },
  {
   "cell_type": "markdown",
   "metadata": {},
   "source": [
    "#### Reemplazamos datos faltantes y añadimos una columna de identiifcador como Primary Key"
   ]
  },
  {
   "cell_type": "code",
   "execution_count": 14,
   "metadata": {},
   "outputs": [],
   "source": [
    "df['Motor'].fillna(\"No_info\", inplace=True)\n",
    "\n",
    "df['ID'] = range(1, len(df) + 1)  \n",
    "\n",
    "df.set_index('ID', inplace=True)"
   ]
  },
  {
   "cell_type": "markdown",
   "metadata": {},
   "source": [
    "#### Exportamos el Dataset"
   ]
  },
  {
   "cell_type": "code",
   "execution_count": 15,
   "metadata": {},
   "outputs": [],
   "source": [
    "df.to_csv(\"Dataset_Autos.csv\")"
   ]
  },
  {
   "cell_type": "code",
   "execution_count": 9,
   "metadata": {},
   "outputs": [
    {
     "name": "stdout",
     "output_type": "stream",
     "text": [
      "Empty DataFrame\n",
      "Columns: [Nombre, Apellido, Identificacion, Motivo Alquiler]\n",
      "Index: []\n"
     ]
    }
   ],
   "source": [
    "data_cliente = {\n",
    "    \"Nombre\": \"\",\n",
    "    \"Apellido\": \"\",\n",
    "    \"Identificacion\": \"\",\n",
    "    \"Motivo Alquiler\": \"\"\n",
    "}\n",
    "\n",
    "# Create DataFrame with an empty index\n",
    "df = pd.DataFrame(data_cliente, index=[])\n",
    "print(df)\n",
    "\n",
    "df.to_csv(\"tabla1.csv\")"
   ]
  },
  {
   "cell_type": "code",
   "execution_count": 10,
   "metadata": {},
   "outputs": [],
   "source": [
    "data_alquiler={\n",
    "    \"ID Alquiler\": \"\",\n",
    "    \"ID Vehiculo\": \"\",\n",
    "    \"ID Cliente\": \"\",\n",
    "    \"Días alquilados\":\"\",\n",
    "    \"Monto Total\":\"\"\n",
    "}\n",
    "\n",
    "df=pd.DataFrame(data_alquiler,index=[])\n",
    "df.to_csv(\"tabla2.csv\")"
   ]
  }
 ],
 "metadata": {
  "kernelspec": {
   "display_name": "Python 3",
   "language": "python",
   "name": "python3"
  },
  "language_info": {
   "codemirror_mode": {
    "name": "ipython",
    "version": 3
   },
   "file_extension": ".py",
   "mimetype": "text/x-python",
   "name": "python",
   "nbconvert_exporter": "python",
   "pygments_lexer": "ipython3",
   "version": "3.11.4"
  }
 },
 "nbformat": 4,
 "nbformat_minor": 2
}
